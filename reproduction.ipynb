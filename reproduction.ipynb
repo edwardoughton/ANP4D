{
 "cells": [
  {
   "cell_type": "code",
   "execution_count": 1,
   "metadata": {},
   "outputs": [],
   "source": [
    "#Import required packages\n",
    "import csv\n",
    "# import math\n",
    "import os\n",
    "import fiona\n",
    "# from itertools import tee\n",
    "import pprint\n",
    "import numpy as np\n",
    "from shapely.geometry import LineString\n",
    "import pandas as pd\n",
    "import geopandas as gpd\n",
    "import matplotlib.pyplot as plt\n",
    "import matplotlib.colors\n",
    "import cartopy.crs as ccrs\n",
    "# import cartopy.io.shapereader as shpreader\n",
    "import contextily as ctx"
   ]
  },
  {
   "cell_type": "code",
   "execution_count": 2,
   "metadata": {},
   "outputs": [
    {
     "name": "stdout",
     "output_type": "stream",
     "text": [
      "[{'EdgeID': 47528, 'hour': 'MIDNIGHT', 'vehicles': 16}]\n"
     ]
    }
   ],
   "source": [
    "unique_link_ids = set()\n",
    "\n",
    "flows_filename = os.path.join('data','link_use_central_oxford.csv')\n",
    "\n",
    "flows = []\n",
    "\n",
    "with open(flows_filename, 'r') as source:\n",
    "    reader = csv.DictReader(source)\n",
    "    for item in reader:\n",
    "        unique_link_ids.add(int(item['edgeID']))\n",
    "        flows.append({\n",
    "            'EdgeID': int(item['edgeID']),\n",
    "            'hour': item['hour'],\n",
    "            'vehicles': int(item['vehicles']),\n",
    "        })\n",
    "        \n",
    "print(flows[:1])"
   ]
  },
  {
   "cell_type": "code",
   "execution_count": 3,
   "metadata": {},
   "outputs": [
    {
     "name": "stdout",
     "output_type": "stream",
     "text": [
      "{73199: {'EdgeID': 73199, 'geom': <shapely.geometry.linestring.LineString object at 0x000002616BEC8710>}, 53203: {'EdgeID': 53203, 'geom': <shapely.geometry.linestring.LineString object at 0x000002616BF65FD0>}, 67418: {'EdgeID': 67418, 'geom': <shapely.geometry.linestring.LineString object at 0x000002616BF6D3C8>}, 60575: {'EdgeID': 60575, 'geom': <shapely.geometry.linestring.LineString object at 0x000002616BEC86A0>}, 63440: {'EdgeID': 63440, 'geom': <shapely.geometry.linestring.LineString object at 0x000002616BEC8550>}, 73222: {'EdgeID': 73222, 'geom': <shapely.geometry.linestring.LineString object at 0x000002616B34FF28>}, 52723: {'EdgeID': 52723, 'geom': <shapely.geometry.linestring.LineString object at 0x000002616BEC85C0>}, 73198: {'EdgeID': 73198, 'geom': <shapely.geometry.linestring.LineString object at 0x000002616BF6D860>}, 80522: {'EdgeID': 80522, 'geom': <shapely.geometry.linestring.LineString object at 0x000002616BF6D908>}, 55563: {'EdgeID': 55563, 'geom': <shapely.geometry.linestring.LineString object at 0x000002616BF6D8D0>}, 50859: {'EdgeID': 50859, 'geom': <shapely.geometry.linestring.LineString object at 0x000002616BF6D978>}, 55564: {'EdgeID': 55564, 'geom': <shapely.geometry.linestring.LineString object at 0x000002616BF6D630>}, 52722: {'EdgeID': 52722, 'geom': <shapely.geometry.linestring.LineString object at 0x000002616BF6D898>}, 53204: {'EdgeID': 53204, 'geom': <shapely.geometry.linestring.LineString object at 0x000002616BF6D668>}, 71429: {'EdgeID': 71429, 'geom': <shapely.geometry.linestring.LineString object at 0x000002616BF6DA58>}, 63441: {'EdgeID': 63441, 'geom': <shapely.geometry.linestring.LineString object at 0x000002616BF6D588>}, 72070: {'EdgeID': 72070, 'geom': <shapely.geometry.linestring.LineString object at 0x000002616BF6D550>}, 52808: {'EdgeID': 52808, 'geom': <shapely.geometry.linestring.LineString object at 0x000002616BF6D9E8>}, 58967: {'EdgeID': 58967, 'geom': <shapely.geometry.linestring.LineString object at 0x000002616BF6D518>}, 60574: {'EdgeID': 60574, 'geom': <shapely.geometry.linestring.LineString object at 0x000002616BF6DB70>}, 65864: {'EdgeID': 65864, 'geom': <shapely.geometry.linestring.LineString object at 0x000002616BF6DBA8>}, 59068: {'EdgeID': 59068, 'geom': <shapely.geometry.linestring.LineString object at 0x000002616BF6DBE0>}, 64130: {'EdgeID': 64130, 'geom': <shapely.geometry.linestring.LineString object at 0x000002616BF6D9B0>}, 69113: {'EdgeID': 69113, 'geom': <shapely.geometry.linestring.LineString object at 0x000002616BF6DC18>}, 58968: {'EdgeID': 58968, 'geom': <shapely.geometry.linestring.LineString object at 0x000002616BF6DC50>}, 53958: {'EdgeID': 53958, 'geom': <shapely.geometry.linestring.LineString object at 0x000002616BF6DCC0>}, 80523: {'EdgeID': 80523, 'geom': <shapely.geometry.linestring.LineString object at 0x000002616BF6DCF8>}, 69415: {'EdgeID': 69415, 'geom': <shapely.geometry.linestring.LineString object at 0x000002616BF6D4E0>}, 79226: {'EdgeID': 79226, 'geom': <shapely.geometry.linestring.LineString object at 0x000002616BF6DD68>}, 69414: {'EdgeID': 69414, 'geom': <shapely.geometry.linestring.LineString object at 0x000002616BF6DDA0>}, 67729: {'EdgeID': 67729, 'geom': <shapely.geometry.linestring.LineString object at 0x000002616BF6DDD8>}, 67204: {'EdgeID': 67204, 'geom': <shapely.geometry.linestring.LineString object at 0x000002616BF6DE10>}, 47529: {'EdgeID': 47529, 'geom': <shapely.geometry.linestring.LineString object at 0x000002616BF6DD30>}, 62609: {'EdgeID': 62609, 'geom': <shapely.geometry.linestring.LineString object at 0x000002616BF6D4A8>}, 53957: {'EdgeID': 53957, 'geom': <shapely.geometry.linestring.LineString object at 0x000002616BF6DE80>}, 64523: {'EdgeID': 64523, 'geom': <shapely.geometry.linestring.LineString object at 0x000002616BF6DB38>}, 69292: {'EdgeID': 69292, 'geom': <shapely.geometry.linestring.LineString object at 0x000002616BF6DF28>}, 65041: {'EdgeID': 65041, 'geom': <shapely.geometry.linestring.LineString object at 0x000002616BF6D470>}, 50858: {'EdgeID': 50858, 'geom': <shapely.geometry.linestring.LineString object at 0x000002616BF6DEF0>}, 69291: {'EdgeID': 69291, 'geom': <shapely.geometry.linestring.LineString object at 0x000002616BF6DF98>}, 65865: {'EdgeID': 65865, 'geom': <shapely.geometry.linestring.LineString object at 0x000002616BF6D7F0>}, 57036: {'EdgeID': 57036, 'geom': <shapely.geometry.linestring.LineString object at 0x000002616BF6DEB8>}, 48574: {'EdgeID': 48574, 'geom': <shapely.geometry.linestring.LineString object at 0x000002616BF6DE48>}, 67203: {'EdgeID': 67203, 'geom': <shapely.geometry.linestring.LineString object at 0x000002616BF6D400>}, 72069: {'EdgeID': 72069, 'geom': <shapely.geometry.linestring.LineString object at 0x000002616BF6DC88>}, 62610: {'EdgeID': 62610, 'geom': <shapely.geometry.linestring.LineString object at 0x000002616BF6D438>}, 73221: {'EdgeID': 73221, 'geom': <shapely.geometry.linestring.LineString object at 0x000002616BF6D5C0>}, 59067: {'EdgeID': 59067, 'geom': <shapely.geometry.linestring.LineString object at 0x000002616BF6DB00>}, 67417: {'EdgeID': 67417, 'geom': <shapely.geometry.linestring.LineString object at 0x000002616BF6D7B8>}, 59426: {'EdgeID': 59426, 'geom': <shapely.geometry.linestring.LineString object at 0x000002616BF6D828>}, 79227: {'EdgeID': 79227, 'geom': <shapely.geometry.linestring.LineString object at 0x000002616BF6DFD0>}, 76765: {'EdgeID': 76765, 'geom': <shapely.geometry.linestring.LineString object at 0x000002616BF6DAC8>}, 59425: {'EdgeID': 59425, 'geom': <shapely.geometry.linestring.LineString object at 0x000002616BF6D940>}, 79104: {'EdgeID': 79104, 'geom': <shapely.geometry.linestring.LineString object at 0x000002616BF6DA20>}, 69713: {'EdgeID': 69713, 'geom': <shapely.geometry.linestring.LineString object at 0x000002616BF6DF60>}, 60136: {'EdgeID': 60136, 'geom': <shapely.geometry.linestring.LineString object at 0x000002616BF78358>}, 65040: {'EdgeID': 65040, 'geom': <shapely.geometry.linestring.LineString object at 0x000002616BF6DA90>}, 70557: {'EdgeID': 70557, 'geom': <shapely.geometry.linestring.LineString object at 0x000002616BF6D780>}, 57035: {'EdgeID': 57035, 'geom': <shapely.geometry.linestring.LineString object at 0x000002616BF6D748>}, 79103: {'EdgeID': 79103, 'geom': <shapely.geometry.linestring.LineString object at 0x000002616BF6D6A0>}, 77730: {'EdgeID': 77730, 'geom': <shapely.geometry.linestring.LineString object at 0x000002616BF783C8>}, 67730: {'EdgeID': 67730, 'geom': <shapely.geometry.linestring.LineString object at 0x000002616BF6D6D8>}, 76766: {'EdgeID': 76766, 'geom': <shapely.geometry.linestring.LineString object at 0x000002616BF6D710>}, 71094: {'EdgeID': 71094, 'geom': <shapely.geometry.linestring.LineString object at 0x000002616BF78470>}, 78867: {'EdgeID': 78867, 'geom': <shapely.geometry.linestring.LineString object at 0x000002616BF782E8>}, 48573: {'EdgeID': 48573, 'geom': <shapely.geometry.linestring.LineString object at 0x000002616BF78208>}, 64522: {'EdgeID': 64522, 'geom': <shapely.geometry.linestring.LineString object at 0x000002616BF78438>}, 77731: {'EdgeID': 77731, 'geom': <shapely.geometry.linestring.LineString object at 0x000002616BF785F8>}, 60135: {'EdgeID': 60135, 'geom': <shapely.geometry.linestring.LineString object at 0x000002616BF785C0>}, 71095: {'EdgeID': 71095, 'geom': <shapely.geometry.linestring.LineString object at 0x000002616BF78240>}, 64129: {'EdgeID': 64129, 'geom': <shapely.geometry.linestring.LineString object at 0x000002616BF786D8>}, 71430: {'EdgeID': 71430, 'geom': <shapely.geometry.linestring.LineString object at 0x000002616BF78710>}, 69714: {'EdgeID': 69714, 'geom': <shapely.geometry.linestring.LineString object at 0x000002616BF78748>}, 78868: {'EdgeID': 78868, 'geom': <shapely.geometry.linestring.LineString object at 0x000002616BF78780>}, 47528: {'EdgeID': 47528, 'geom': <shapely.geometry.linestring.LineString object at 0x000002616BF784E0>}, 69114: {'EdgeID': 69114, 'geom': <shapely.geometry.linestring.LineString object at 0x000002616BF781D0>}, 52807: {'EdgeID': 52807, 'geom': <shapely.geometry.linestring.LineString object at 0x000002616BF787F0>}, 70558: {'EdgeID': 70558, 'geom': <shapely.geometry.linestring.LineString object at 0x000002616BF786A0>}}\n"
     ]
    }
   ],
   "source": [
    "links = {}\n",
    "    \n",
    "with fiona.open(os.path.join('data','national','fullNetworkWithEdgeIDs.shp')) as source:\n",
    "    for item in source:\n",
    "        link = int(item['properties']['EdgeID'])\n",
    "        if link in unique_link_ids:\n",
    "            geom = LineString(item['geometry']['coordinates'])\n",
    "            links[link] = {\n",
    "                'EdgeID': link,\n",
    "                'geom': geom\n",
    "            }\n",
    "\n",
    "print(links)"
   ]
  },
  {
   "cell_type": "code",
   "execution_count": 4,
   "metadata": {},
   "outputs": [
    {
     "name": "stdout",
     "output_type": "stream",
     "text": [
      "4556.0\n"
     ]
    }
   ],
   "source": [
    "hourly_maxes = []\n",
    "for interval_key, interval_name in [\n",
    "        ('MIDNIGHT', '00'),\n",
    "        ('ONEAM', '01'),\n",
    "        ('TWOAM', '02'),\n",
    "        ('THREEAM', '03'),\n",
    "        ('FOURAM', '04'),\n",
    "        ('FIVEAM', '05'),\n",
    "        ('SIXAM', '06'),\n",
    "        ('SEVENAM', '07'),\n",
    "        ('EIGHTAM', '08'),\n",
    "        ('NINEAM', '09'),\n",
    "        ('TENAM', '10'),\n",
    "        ('ELEVENAM', '11'),\n",
    "        ('NOON', '12'),\n",
    "        ('ONEPM', '13'),\n",
    "        ('TWOPM', '14'),\n",
    "        ('THREEPM', '15'),\n",
    "        ('FOURPM', '16'),\n",
    "        ('FIVEPM', '17'),\n",
    "        ('SIXPM', '18'),\n",
    "        ('SEVENPM', '19'),\n",
    "        ('EIGHTPM', '20'),\n",
    "        ('NINEPM', '21'),\n",
    "        ('TENPM', '22'),\n",
    "        ('ELEVENPM', '23')\n",
    "    ]:\n",
    "    hourly_maxes.append(max(float(line['vehicles']) for line in flows if line['hour'] == interval_key))\n",
    "flow_max = max(hourly_maxes)\n",
    "print(flow_max)"
   ]
  },
  {
   "cell_type": "code",
   "execution_count": 5,
   "metadata": {},
   "outputs": [],
   "source": [
    "def plot_map(interval, links, flow_max, output_filename):\n",
    "    # Create figure\n",
    "    plt.figure(figsize=(6, 10), dpi=150)\n",
    "\n",
    "    # Get projection\n",
    "    proj = ccrs.OSGB()\n",
    "\n",
    "    # Create axes to hold plot\n",
    "    ax = plt.axes([0.025, 0.025, 0.95, 0.93], projection=proj)\n",
    "    extent = [440000, 460000, 200000, 220000] # xmin xmax ymin ymax for GB\n",
    "    ax.set_extent(extent, crs=proj)\n",
    "    ax.outline_patch.set_visible(False)\n",
    "\n",
    "    ax.text(3000, 1100000, '{}:00'.format(interval), fontsize=16)\n",
    "\n",
    "    binwidth = 50\n",
    "    flows = np.unique([int(link['flow'] / binwidth) for link in links.values() if 'flow' in link]) * binwidth\n",
    "\n",
    "    # Choose colormap\n",
    "    # see https://matplotlib.org/users/colormaps.html for options\n",
    "    colors = plt.get_cmap('YlOrRd')\n",
    "    color_map = plt.cm.ScalarMappable(\n",
    "        cmap=colors, \n",
    "        norm=matplotlib.colors.Normalize(vmin=0.0001, vmax=flow_max))\n",
    "\n",
    "    geoms_by_flow = {\n",
    "        0.0001: []  # Catch-all for zero/negative flows\n",
    "    }\n",
    "\n",
    "    for flow in flows:\n",
    "        if flow == 0:\n",
    "            flow = 0.0001\n",
    "        geoms_by_flow[flow] = []\n",
    "\n",
    "    for link in links.values():\n",
    "        if 'flow' in link:\n",
    "            flow = int(link['flow'] / binwidth) * binwidth\n",
    "            if flow == 0:\n",
    "                flow = 0.0001\n",
    "        else:\n",
    "            flow = 0.0001\n",
    "        geoms_by_flow[flow].append(link['geom'])\n",
    "\n",
    "    for flow in flows:\n",
    "        if flow <= 0:\n",
    "            flow = 0.0001\n",
    "        color = color_map.to_rgba(flow)\n",
    "        ax.add_geometries(\n",
    "            geoms_by_flow[flow],\n",
    "            crs=proj,\n",
    "            edgecolor=color,\n",
    "            facecolor='none',\n",
    "            zorder=2)\n",
    "\n",
    "    # Add colorbar\n",
    "    color_map._A = []\n",
    "    cbar = plt.colorbar(color_map, ax=ax, fraction=0.1, pad=0.03, drawedges=False, orientation='horizontal')\n",
    "    cbar.outline.set_color(\"none\")\n",
    "    cbar.ax.set_xlabel('Flow volume')\n",
    "\n",
    "    # Save to file\n",
    "    plt.savefig(output_filename)\n",
    "    plt.close()"
   ]
  },
  {
   "cell_type": "code",
   "execution_count": 6,
   "metadata": {},
   "outputs": [
    {
     "name": "stdout",
     "output_type": "stream",
     "text": [
      "Done 00\n",
      "Done 01\n",
      "Done 02\n",
      "Done 03\n",
      "Done 04\n",
      "Done 05\n",
      "Done 06\n",
      "Done 07\n",
      "Done 08\n",
      "Done 09\n",
      "Done 10\n",
      "Done 11\n",
      "Done 12\n",
      "Done 13\n",
      "Done 14\n",
      "Done 15\n",
      "Done 16\n",
      "Done 17\n",
      "Done 18\n",
      "Done 19\n",
      "Done 20\n",
      "Done 21\n",
      "Done 22\n",
      "Done 23\n"
     ]
    }
   ],
   "source": [
    "for interval_key, interval_name in [\n",
    "    ('MIDNIGHT', '00'),\n",
    "    ('ONEAM', '01'),\n",
    "    ('TWOAM', '02'),\n",
    "    ('THREEAM', '03'),\n",
    "    ('FOURAM', '04'),\n",
    "    ('FIVEAM', '05'),\n",
    "    ('SIXAM', '06'),\n",
    "    ('SEVENAM', '07'),\n",
    "    ('EIGHTAM', '08'),\n",
    "    ('NINEAM', '09'),\n",
    "    ('TENAM', '10'),\n",
    "    ('ELEVENAM', '11'),\n",
    "    ('NOON', '12'),\n",
    "    ('ONEPM', '13'),\n",
    "    ('TWOPM', '14'),\n",
    "    ('THREEPM', '15'),\n",
    "    ('FOURPM', '16'),\n",
    "    ('FIVEPM', '17'),\n",
    "    ('SIXPM', '18'),\n",
    "    ('SEVENPM', '19'),\n",
    "    ('EIGHTPM', '20'),\n",
    "    ('NINEPM', '21'),\n",
    "    ('TENPM', '22'),\n",
    "    ('ELEVENPM', '23')\n",
    "    ]:\n",
    "    for line in flows:\n",
    "        link = int(line['EdgeID'])\n",
    "\n",
    "        if line['hour'] == interval_key and link in list(unique_link_ids):\n",
    "            links[link]['flow'] = int(line['vehicles'])\n",
    "            links[link]['hour'] = interval_key              \n",
    "\n",
    "    plot_map(interval_name, links, flow_max, os.path.join('vis', interval_name))\n",
    "    print(\"Done\", interval_name)"
   ]
  },
  {
   "cell_type": "code",
   "execution_count": 7,
   "metadata": {},
   "outputs": [],
   "source": [
    "import glob\n",
    "import imageio\n",
    "\n",
    "gif_path = 'movie.gif'\n",
    "filenames = glob.glob(os.path.join('vis','*.png'))\n",
    "\n",
    "images = []\n",
    "for filename in filenames:\n",
    "    images.append(imageio.imread(filename))\n",
    "imageio.mimsave(os.path.join(gif_path), images)"
   ]
  },
  {
   "cell_type": "code",
   "execution_count": 10,
   "metadata": {},
   "outputs": [
    {
     "name": "stdout",
     "output_type": "stream",
     "text": [
      "movie.gif\n"
     ]
    },
    {
     "ename": "FileNotFoundError",
     "evalue": "[WinError 2] The system cannot find the file specified",
     "output_type": "error",
     "traceback": [
      "\u001b[1;31m---------------------------------------------------------------------------\u001b[0m",
      "\u001b[1;31mFileNotFoundError\u001b[0m                         Traceback (most recent call last)",
      "\u001b[1;32m<ipython-input-10-d6055553988f>\u001b[0m in \u001b[0;36m<module>\u001b[1;34m\u001b[0m\n\u001b[0;32m      1\u001b[0m \u001b[1;32mfrom\u001b[0m \u001b[0mpygifsicle\u001b[0m \u001b[1;32mimport\u001b[0m \u001b[0moptimize\u001b[0m\u001b[1;33m\u001b[0m\u001b[1;33m\u001b[0m\u001b[0m\n\u001b[0;32m      2\u001b[0m \u001b[0mprint\u001b[0m\u001b[1;33m(\u001b[0m\u001b[0mgif_path\u001b[0m\u001b[1;33m)\u001b[0m\u001b[1;33m\u001b[0m\u001b[1;33m\u001b[0m\u001b[0m\n\u001b[1;32m----> 3\u001b[1;33m \u001b[0moptimize\u001b[0m\u001b[1;33m(\u001b[0m\u001b[0mgif_path\u001b[0m\u001b[1;33m)\u001b[0m\u001b[1;33m\u001b[0m\u001b[1;33m\u001b[0m\u001b[0m\n\u001b[0m",
      "\u001b[1;32m~\\Anaconda3\\envs\\transport_digital\\lib\\site-packages\\pygifsicle\\pygifsicle.py\u001b[0m in \u001b[0;36moptimize\u001b[1;34m(source, *args, **kwargs)\u001b[0m\n\u001b[0;32m     62\u001b[0m         \u001b[0mPath\u001b[0m \u001b[0mto\u001b[0m \u001b[0mgif\u001b[0m \u001b[0mimage\u001b[0m \u001b[0mto\u001b[0m \u001b[0moptimize\u001b[0m\u001b[1;33m.\u001b[0m\u001b[1;33m\u001b[0m\u001b[1;33m\u001b[0m\u001b[0m\n\u001b[0;32m     63\u001b[0m     \"\"\"\n\u001b[1;32m---> 64\u001b[1;33m     \u001b[0mgifsicle\u001b[0m\u001b[1;33m(\u001b[0m\u001b[0msource\u001b[0m\u001b[1;33m,\u001b[0m \u001b[1;33m*\u001b[0m\u001b[0margs\u001b[0m\u001b[1;33m,\u001b[0m \u001b[1;33m**\u001b[0m\u001b[0mkwargs\u001b[0m\u001b[1;33m,\u001b[0m \u001b[0moptimize\u001b[0m\u001b[1;33m=\u001b[0m\u001b[1;32mTrue\u001b[0m\u001b[1;33m)\u001b[0m\u001b[1;33m\u001b[0m\u001b[1;33m\u001b[0m\u001b[0m\n\u001b[0m",
      "\u001b[1;32m~\\Anaconda3\\envs\\transport_digital\\lib\\site-packages\\pygifsicle\\pygifsicle.py\u001b[0m in \u001b[0;36mgifsicle\u001b[1;34m(sources, destination, optimize, colors, options)\u001b[0m\n\u001b[0;32m     51\u001b[0m         \u001b[0moptions\u001b[0m\u001b[1;33m.\u001b[0m\u001b[0mappend\u001b[0m\u001b[1;33m(\u001b[0m\u001b[1;34m\"--optimize\"\u001b[0m\u001b[1;33m)\u001b[0m\u001b[1;33m\u001b[0m\u001b[1;33m\u001b[0m\u001b[0m\n\u001b[0;32m     52\u001b[0m     subprocess.call([\"gifsicle\", *options, *sources, \"--colors\",\n\u001b[1;32m---> 53\u001b[1;33m                      str(colors), \"--output\", destination])\n\u001b[0m\u001b[0;32m     54\u001b[0m \u001b[1;33m\u001b[0m\u001b[0m\n\u001b[0;32m     55\u001b[0m \u001b[1;33m\u001b[0m\u001b[0m\n",
      "\u001b[1;32m~\\Anaconda3\\envs\\transport_digital\\lib\\subprocess.py\u001b[0m in \u001b[0;36mcall\u001b[1;34m(timeout, *popenargs, **kwargs)\u001b[0m\n\u001b[0;32m    321\u001b[0m     \u001b[0mretcode\u001b[0m \u001b[1;33m=\u001b[0m \u001b[0mcall\u001b[0m\u001b[1;33m(\u001b[0m\u001b[1;33m[\u001b[0m\u001b[1;34m\"ls\"\u001b[0m\u001b[1;33m,\u001b[0m \u001b[1;34m\"-l\"\u001b[0m\u001b[1;33m]\u001b[0m\u001b[1;33m)\u001b[0m\u001b[1;33m\u001b[0m\u001b[1;33m\u001b[0m\u001b[0m\n\u001b[0;32m    322\u001b[0m     \"\"\"\n\u001b[1;32m--> 323\u001b[1;33m     \u001b[1;32mwith\u001b[0m \u001b[0mPopen\u001b[0m\u001b[1;33m(\u001b[0m\u001b[1;33m*\u001b[0m\u001b[0mpopenargs\u001b[0m\u001b[1;33m,\u001b[0m \u001b[1;33m**\u001b[0m\u001b[0mkwargs\u001b[0m\u001b[1;33m)\u001b[0m \u001b[1;32mas\u001b[0m \u001b[0mp\u001b[0m\u001b[1;33m:\u001b[0m\u001b[1;33m\u001b[0m\u001b[1;33m\u001b[0m\u001b[0m\n\u001b[0m\u001b[0;32m    324\u001b[0m         \u001b[1;32mtry\u001b[0m\u001b[1;33m:\u001b[0m\u001b[1;33m\u001b[0m\u001b[1;33m\u001b[0m\u001b[0m\n\u001b[0;32m    325\u001b[0m             \u001b[1;32mreturn\u001b[0m \u001b[0mp\u001b[0m\u001b[1;33m.\u001b[0m\u001b[0mwait\u001b[0m\u001b[1;33m(\u001b[0m\u001b[0mtimeout\u001b[0m\u001b[1;33m=\u001b[0m\u001b[0mtimeout\u001b[0m\u001b[1;33m)\u001b[0m\u001b[1;33m\u001b[0m\u001b[1;33m\u001b[0m\u001b[0m\n",
      "\u001b[1;32m~\\Anaconda3\\envs\\transport_digital\\lib\\subprocess.py\u001b[0m in \u001b[0;36m__init__\u001b[1;34m(self, args, bufsize, executable, stdin, stdout, stderr, preexec_fn, close_fds, shell, cwd, env, universal_newlines, startupinfo, creationflags, restore_signals, start_new_session, pass_fds, encoding, errors, text)\u001b[0m\n\u001b[0;32m    773\u001b[0m                                 \u001b[0mc2pread\u001b[0m\u001b[1;33m,\u001b[0m \u001b[0mc2pwrite\u001b[0m\u001b[1;33m,\u001b[0m\u001b[1;33m\u001b[0m\u001b[1;33m\u001b[0m\u001b[0m\n\u001b[0;32m    774\u001b[0m                                 \u001b[0merrread\u001b[0m\u001b[1;33m,\u001b[0m \u001b[0merrwrite\u001b[0m\u001b[1;33m,\u001b[0m\u001b[1;33m\u001b[0m\u001b[1;33m\u001b[0m\u001b[0m\n\u001b[1;32m--> 775\u001b[1;33m                                 restore_signals, start_new_session)\n\u001b[0m\u001b[0;32m    776\u001b[0m         \u001b[1;32mexcept\u001b[0m\u001b[1;33m:\u001b[0m\u001b[1;33m\u001b[0m\u001b[1;33m\u001b[0m\u001b[0m\n\u001b[0;32m    777\u001b[0m             \u001b[1;31m# Cleanup if the child failed starting.\u001b[0m\u001b[1;33m\u001b[0m\u001b[1;33m\u001b[0m\u001b[1;33m\u001b[0m\u001b[0m\n",
      "\u001b[1;32m~\\Anaconda3\\envs\\transport_digital\\lib\\subprocess.py\u001b[0m in \u001b[0;36m_execute_child\u001b[1;34m(self, args, executable, preexec_fn, close_fds, pass_fds, cwd, env, startupinfo, creationflags, shell, p2cread, p2cwrite, c2pread, c2pwrite, errread, errwrite, unused_restore_signals, unused_start_new_session)\u001b[0m\n\u001b[0;32m   1176\u001b[0m                                          \u001b[0menv\u001b[0m\u001b[1;33m,\u001b[0m\u001b[1;33m\u001b[0m\u001b[1;33m\u001b[0m\u001b[0m\n\u001b[0;32m   1177\u001b[0m                                          \u001b[0mos\u001b[0m\u001b[1;33m.\u001b[0m\u001b[0mfspath\u001b[0m\u001b[1;33m(\u001b[0m\u001b[0mcwd\u001b[0m\u001b[1;33m)\u001b[0m \u001b[1;32mif\u001b[0m \u001b[0mcwd\u001b[0m \u001b[1;32mis\u001b[0m \u001b[1;32mnot\u001b[0m \u001b[1;32mNone\u001b[0m \u001b[1;32melse\u001b[0m \u001b[1;32mNone\u001b[0m\u001b[1;33m,\u001b[0m\u001b[1;33m\u001b[0m\u001b[1;33m\u001b[0m\u001b[0m\n\u001b[1;32m-> 1178\u001b[1;33m                                          startupinfo)\n\u001b[0m\u001b[0;32m   1179\u001b[0m             \u001b[1;32mfinally\u001b[0m\u001b[1;33m:\u001b[0m\u001b[1;33m\u001b[0m\u001b[1;33m\u001b[0m\u001b[0m\n\u001b[0;32m   1180\u001b[0m                 \u001b[1;31m# Child is launched. Close the parent's copy of those pipe\u001b[0m\u001b[1;33m\u001b[0m\u001b[1;33m\u001b[0m\u001b[1;33m\u001b[0m\u001b[0m\n",
      "\u001b[1;31mFileNotFoundError\u001b[0m: [WinError 2] The system cannot find the file specified"
     ]
    }
   ],
   "source": [
    "from pygifsicle import optimize\n",
    "print(gif_path)\n",
    "optimize(gif_path)"
   ]
  }
 ],
 "metadata": {
  "kernelspec": {
   "display_name": "Python 3",
   "language": "python",
   "name": "python3"
  },
  "language_info": {
   "codemirror_mode": {
    "name": "ipython",
    "version": 3
   },
   "file_extension": ".py",
   "mimetype": "text/x-python",
   "name": "python",
   "nbconvert_exporter": "python",
   "pygments_lexer": "ipython3",
   "version": "3.7.3"
  }
 },
 "nbformat": 4,
 "nbformat_minor": 2
}
