{
 "cells": [
  {
   "cell_type": "code",
   "execution_count": 1,
   "metadata": {},
   "outputs": [],
   "source": [
    "import os\n",
    "import glob\n",
    "\n",
    "import contextily as ctx\n",
    "import geopandas as gpd\n",
    "import imageio\n",
    "import matplotlib.pyplot as plt\n",
    "import matplotlib.colors\n",
    "import pandas as pd\n",
    "import pygifsicle"
   ]
  },
  {
   "cell_type": "code",
   "execution_count": 2,
   "metadata": {},
   "outputs": [
    {
     "data": {
      "text/html": [
       "<div>\n",
       "<style scoped>\n",
       "    .dataframe tbody tr th:only-of-type {\n",
       "        vertical-align: middle;\n",
       "    }\n",
       "\n",
       "    .dataframe tbody tr th {\n",
       "        vertical-align: top;\n",
       "    }\n",
       "\n",
       "    .dataframe thead th {\n",
       "        text-align: right;\n",
       "    }\n",
       "</style>\n",
       "<table border=\"1\" class=\"dataframe\">\n",
       "  <thead>\n",
       "    <tr style=\"text-align: right;\">\n",
       "      <th></th>\n",
       "      <th>link</th>\n",
       "      <th>hour</th>\n",
       "      <th>flow</th>\n",
       "    </tr>\n",
       "  </thead>\n",
       "  <tbody>\n",
       "    <tr>\n",
       "      <th>0</th>\n",
       "      <td>47528</td>\n",
       "      <td>MIDNIGHT</td>\n",
       "      <td>16</td>\n",
       "    </tr>\n",
       "    <tr>\n",
       "      <th>1</th>\n",
       "      <td>47528</td>\n",
       "      <td>ONEAM</td>\n",
       "      <td>6</td>\n",
       "    </tr>\n",
       "    <tr>\n",
       "      <th>2</th>\n",
       "      <td>47528</td>\n",
       "      <td>TWOAM</td>\n",
       "      <td>5</td>\n",
       "    </tr>\n",
       "    <tr>\n",
       "      <th>3</th>\n",
       "      <td>47528</td>\n",
       "      <td>THREEAM</td>\n",
       "      <td>5</td>\n",
       "    </tr>\n",
       "    <tr>\n",
       "      <th>4</th>\n",
       "      <td>47528</td>\n",
       "      <td>FOURAM</td>\n",
       "      <td>18</td>\n",
       "    </tr>\n",
       "  </tbody>\n",
       "</table>\n",
       "</div>"
      ],
      "text/plain": [
       "    link      hour  flow\n",
       "0  47528  MIDNIGHT    16\n",
       "1  47528     ONEAM     6\n",
       "2  47528     TWOAM     5\n",
       "3  47528   THREEAM     5\n",
       "4  47528    FOURAM    18"
      ]
     },
     "execution_count": 2,
     "metadata": {},
     "output_type": "execute_result"
    }
   ],
   "source": [
    "flows = pd.read_csv(os.path.join('data','link_use_central_oxford.csv')) \\\n",
    "    .rename(columns={'edgeID': 'link', 'vehicles': 'flow'})\n",
    "flows.head()"
   ]
  },
  {
   "cell_type": "code",
   "execution_count": 3,
   "metadata": {},
   "outputs": [
    {
     "data": {
      "text/plain": [
       "4556"
      ]
     },
     "execution_count": 3,
     "metadata": {},
     "output_type": "execute_result"
    }
   ],
   "source": [
    "flow_max = flows.flow.max()\n",
    "flow_max"
   ]
  },
  {
   "cell_type": "code",
   "execution_count": 4,
   "metadata": {},
   "outputs": [
    {
     "data": {
      "text/plain": [
       "array([47528, 59425, 71095, 79227, 78868, 79103, 64522, 67418, 71430,\n",
       "       64130, 70557, 69414, 76765, 79104, 58968, 70558, 60574, 59426,\n",
       "       80522, 69291, 65865, 65864, 79226, 80523, 60136, 48573, 52808,\n",
       "       67417, 52807, 59068, 52723, 69415, 67729, 78867, 63440, 58967,\n",
       "       71429, 53203, 67730, 71094, 73222, 73221, 50858, 52722, 69114,\n",
       "       67204, 59067, 57036, 65040, 77731, 72070, 65041, 69713, 53957,\n",
       "       55563, 62610, 62609, 76766, 64523, 50859, 69292, 73198, 48574,\n",
       "       55564, 57035, 47529, 73199, 72069, 69714, 63441, 53958, 60135,\n",
       "       53204, 64129, 67203, 60575, 69113, 77730], dtype=int64)"
      ]
     },
     "execution_count": 4,
     "metadata": {},
     "output_type": "execute_result"
    }
   ],
   "source": [
    "unique_link_ids = flows.link.unique()\n",
    "unique_link_ids"
   ]
  },
  {
   "cell_type": "code",
   "execution_count": 5,
   "metadata": {},
   "outputs": [
    {
     "data": {
      "text/plain": [
       "78"
      ]
     },
     "execution_count": 5,
     "metadata": {},
     "output_type": "execute_result"
    }
   ],
   "source": [
    "len(unique_link_ids)"
   ]
  },
  {
   "cell_type": "code",
   "execution_count": 6,
   "metadata": {},
   "outputs": [
    {
     "data": {
      "text/html": [
       "<div>\n",
       "<style scoped>\n",
       "    .dataframe tbody tr th:only-of-type {\n",
       "        vertical-align: middle;\n",
       "    }\n",
       "\n",
       "    .dataframe tbody tr th {\n",
       "        vertical-align: top;\n",
       "    }\n",
       "\n",
       "    .dataframe thead th {\n",
       "        text-align: right;\n",
       "    }\n",
       "</style>\n",
       "<table border=\"1\" class=\"dataframe\">\n",
       "  <thead>\n",
       "    <tr style=\"text-align: right;\">\n",
       "      <th></th>\n",
       "      <th>link</th>\n",
       "      <th>geometry</th>\n",
       "    </tr>\n",
       "  </thead>\n",
       "  <tbody>\n",
       "    <tr>\n",
       "      <th>0</th>\n",
       "      <td>63083</td>\n",
       "      <td>LINESTRING (334560.000 390930.000, 334790.000 ...</td>\n",
       "    </tr>\n",
       "    <tr>\n",
       "      <th>1</th>\n",
       "      <td>77093</td>\n",
       "      <td>LINESTRING (447920.000 126720.000, 448910.000 ...</td>\n",
       "    </tr>\n",
       "    <tr>\n",
       "      <th>2</th>\n",
       "      <td>65231</td>\n",
       "      <td>LINESTRING (267950.000 259740.000, 262370.000 ...</td>\n",
       "    </tr>\n",
       "    <tr>\n",
       "      <th>3</th>\n",
       "      <td>54080</td>\n",
       "      <td>LINESTRING (393720.000 344400.000, 393723.000 ...</td>\n",
       "    </tr>\n",
       "    <tr>\n",
       "      <th>4</th>\n",
       "      <td>55499</td>\n",
       "      <td>LINESTRING (250600.000 667570.000, 249480.000 ...</td>\n",
       "    </tr>\n",
       "  </tbody>\n",
       "</table>\n",
       "</div>"
      ],
      "text/plain": [
       "    link                                           geometry\n",
       "0  63083  LINESTRING (334560.000 390930.000, 334790.000 ...\n",
       "1  77093  LINESTRING (447920.000 126720.000, 448910.000 ...\n",
       "2  65231  LINESTRING (267950.000 259740.000, 262370.000 ...\n",
       "3  54080  LINESTRING (393720.000 344400.000, 393723.000 ...\n",
       "4  55499  LINESTRING (250600.000 667570.000, 249480.000 ..."
      ]
     },
     "execution_count": 6,
     "metadata": {},
     "output_type": "execute_result"
    }
   ],
   "source": [
    "links = gpd.read_file(os.path.join('data','national','fullNetworkWithEdgeIDs.shp')) \\\n",
    "    .drop(columns=['Anode', 'Bnode', 'CP', 'iDir', 'SRefE', 'SRefN', 'Distance', 'FFspeed', 'FFtime', 'IsFerry']) \\\n",
    "    .rename(columns={'EdgeID': 'link'})\n",
    "links.head()"
   ]
  },
  {
   "cell_type": "code",
   "execution_count": 7,
   "metadata": {},
   "outputs": [
    {
     "data": {
      "text/html": [
       "<div>\n",
       "<style scoped>\n",
       "    .dataframe tbody tr th:only-of-type {\n",
       "        vertical-align: middle;\n",
       "    }\n",
       "\n",
       "    .dataframe tbody tr th {\n",
       "        vertical-align: top;\n",
       "    }\n",
       "\n",
       "    .dataframe thead th {\n",
       "        text-align: right;\n",
       "    }\n",
       "</style>\n",
       "<table border=\"1\" class=\"dataframe\">\n",
       "  <thead>\n",
       "    <tr style=\"text-align: right;\">\n",
       "      <th></th>\n",
       "      <th>flow</th>\n",
       "    </tr>\n",
       "    <tr>\n",
       "      <th>hour</th>\n",
       "      <th></th>\n",
       "    </tr>\n",
       "  </thead>\n",
       "  <tbody>\n",
       "    <tr>\n",
       "      <th>EIGHTAM</th>\n",
       "      <td>4556</td>\n",
       "    </tr>\n",
       "    <tr>\n",
       "      <th>EIGHTPM</th>\n",
       "      <td>1237</td>\n",
       "    </tr>\n",
       "    <tr>\n",
       "      <th>ELEVENAM</th>\n",
       "      <td>2565</td>\n",
       "    </tr>\n",
       "    <tr>\n",
       "      <th>ELEVENPM</th>\n",
       "      <td>309</td>\n",
       "    </tr>\n",
       "    <tr>\n",
       "      <th>FIVEAM</th>\n",
       "      <td>378</td>\n",
       "    </tr>\n",
       "  </tbody>\n",
       "</table>\n",
       "</div>"
      ],
      "text/plain": [
       "          flow\n",
       "hour          \n",
       "EIGHTAM   4556\n",
       "EIGHTPM   1237\n",
       "ELEVENAM  2565\n",
       "ELEVENPM   309\n",
       "FIVEAM     378"
      ]
     },
     "execution_count": 7,
     "metadata": {},
     "output_type": "execute_result"
    }
   ],
   "source": [
    "hourly_maxes = flows.drop(columns=['link']).groupby('hour').max()\n",
    "hourly_maxes.head()"
   ]
  },
  {
   "cell_type": "code",
   "execution_count": 8,
   "metadata": {},
   "outputs": [],
   "source": [
    "def plot_map(hour, links, flow_max, output_filename):\n",
    "    ax = links.plot(\n",
    "        figsize=(10, 12),\n",
    "        column='flow',\n",
    "        cmap='YlOrRd',\n",
    "        norm=matplotlib.colors.Normalize(vmin=0.0001, vmax=flow_max),\n",
    "        legend=True,\n",
    "        legend_kwds={'label': 'Flow volume', 'orientation': 'horizontal'}\n",
    "    )\n",
    "    plt.title('{:02d}:00'.format(hour), fontsize=16)\n",
    "    ctx.add_basemap(ax, crs=links.crs)\n",
    "    plt.savefig(output_filename)\n",
    "    plt.close()"
   ]
  },
  {
   "cell_type": "code",
   "execution_count": 9,
   "metadata": {},
   "outputs": [
    {
     "name": "stderr",
     "output_type": "stream",
     "text": [
      "C:\\Users\\edwar\\Anaconda3\\envs\\anp4d\\lib\\site-packages\\PIL\\Image.py:989: UserWarning: Palette images with Transparency expressed in bytes should be converted to RGBA images\n",
      "  \"Palette images with Transparency expressed in bytes should be \"\n"
     ]
    }
   ],
   "source": [
    "hours = [\n",
    "    'MIDNIGHT',\n",
    "    'ONEAM',\n",
    "    'TWOAM',\n",
    "    'THREEAM',\n",
    "    'FOURAM',\n",
    "    'FIVEAM',\n",
    "    'SIXAM',\n",
    "    'SEVENAM',\n",
    "    'EIGHTAM',\n",
    "    'NINEAM',\n",
    "    'TENAM',\n",
    "    'ELEVENAM',\n",
    "    'NOON',\n",
    "    'ONEPM',\n",
    "    'TWOPM',\n",
    "    'THREEPM',\n",
    "    'FOURPM',\n",
    "    'FIVEPM',\n",
    "    'SIXPM',\n",
    "    'SEVENPM',\n",
    "    'EIGHTPM',\n",
    "    'NINEPM',\n",
    "    'TENPM',\n",
    "    'ELEVENPM',\n",
    "]\n",
    "for hour, hour_key in enumerate(hours):\n",
    "    hour_flows = flows[flows.hour == hour_key].copy()\n",
    "    hour_flows = links.merge(hour_flows, on='link')\n",
    "    plot_map(hour, hour_flows, flow_max, os.path.join('vis', '{:02d}.png'.format(hour)))"
   ]
  },
  {
   "cell_type": "code",
   "execution_count": 10,
   "metadata": {},
   "outputs": [],
   "source": [
    "gif_path = os.path.join('vis', 'movie.gif')\n",
    "filenames = glob.glob(os.path.join('vis','*.png'))\n",
    "\n",
    "images = []\n",
    "for filename in filenames:\n",
    "    images.append(imageio.imread(filename))\n",
    "imageio.mimsave(os.path.join(gif_path), images)"
   ]
  },
  {
   "cell_type": "code",
   "execution_count": 11,
   "metadata": {},
   "outputs": [],
   "source": [
    "pygifsicle.optimize('vis\\movie.gif')\n"
   ]
  }
 ],
 "metadata": {
  "kernelspec": {
   "display_name": "Python 3",
   "language": "python",
   "name": "python3"
  },
  "language_info": {
   "codemirror_mode": {
    "name": "ipython",
    "version": 3
   },
   "file_extension": ".py",
   "mimetype": "text/x-python",
   "name": "python",
   "nbconvert_exporter": "python",
   "pygments_lexer": "ipython3",
   "version": "3.7.3"
  }
 },
 "nbformat": 4,
 "nbformat_minor": 2
}
