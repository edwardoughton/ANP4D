{
 "cells": [
  {
   "cell_type": "code",
   "execution_count": null,
   "metadata": {},
   "outputs": [],
   "source": [
    "import os\n",
    "import glob\n",
    "\n",
    "import contextily as ctx\n",
    "import geopandas as gpd\n",
    "import imageio\n",
    "import matplotlib.pyplot as plt\n",
    "import matplotlib.colors\n",
    "import pandas as pd\n",
    "import pygifsicle"
   ]
  },
  {
   "cell_type": "code",
   "execution_count": null,
   "metadata": {},
   "outputs": [],
   "source": [
    "flows = pd.read_csv(os.path.join('data','link_use_central_oxford.csv')) \\\n",
    "    .rename(columns={'edgeID': 'link', 'vehicles': 'flow'})\n",
    "flows.head()"
   ]
  },
  {
   "cell_type": "code",
   "execution_count": null,
   "metadata": {},
   "outputs": [],
   "source": [
    "flow_max = flows.flow.max()\n",
    "flow_max"
   ]
  },
  {
   "cell_type": "code",
   "execution_count": null,
   "metadata": {},
   "outputs": [],
   "source": [
    "unique_link_ids = flows.link.unique()\n",
    "unique_link_ids"
   ]
  },
  {
   "cell_type": "code",
   "execution_count": null,
   "metadata": {},
   "outputs": [],
   "source": [
    "len(unique_link_ids)"
   ]
  },
  {
   "cell_type": "code",
   "execution_count": null,
   "metadata": {},
   "outputs": [],
   "source": [
    "links = gpd.read_file(os.path.join('data','fullNetworkWithEdgeIDs.shp')) \\\n",
    "    .drop(columns=['Anode', 'Bnode', 'CP', 'iDir', 'SRefE', 'SRefN', 'Distance', 'FFspeed', 'FFtime', 'IsFerry']) \\\n",
    "    .rename(columns={'EdgeID': 'link'})\n",
    "links.head()"
   ]
  },
  {
   "cell_type": "code",
   "execution_count": null,
   "metadata": {},
   "outputs": [],
   "source": [
    "hourly_maxes = flows.drop(columns=['link']).groupby('hour').max()\n",
    "hourly_maxes.head()"
   ]
  },
  {
   "cell_type": "code",
   "execution_count": null,
   "metadata": {},
   "outputs": [],
   "source": [
    "def plot_map(hour, links, flow_max, output_filename):\n",
    "    ax = links.plot(\n",
    "        figsize=(10, 12),\n",
    "        column='flow',\n",
    "        cmap='YlOrRd',\n",
    "        norm=matplotlib.colors.Normalize(vmin=0.0001, vmax=flow_max),\n",
    "        legend=True,\n",
    "        legend_kwds={'label': 'Flow volume', 'orientation': 'horizontal'}\n",
    "    )\n",
    "    plt.title('{:02d}:00'.format(hour), fontsize=16)\n",
    "    ctx.add_basemap(ax, crs=links.crs)\n",
    "    plt.savefig(output_filename)\n",
    "    plt.close()"
   ]
  },
  {
   "cell_type": "code",
   "execution_count": null,
   "metadata": {},
   "outputs": [],
   "source": [
    "hours = [\n",
    "    'MIDNIGHT',\n",
    "    'ONEAM',\n",
    "    'TWOAM',\n",
    "    'THREEAM',\n",
    "    'FOURAM',\n",
    "    'FIVEAM',\n",
    "    'SIXAM',\n",
    "    'SEVENAM',\n",
    "    'EIGHTAM',\n",
    "    'NINEAM',\n",
    "    'TENAM',\n",
    "    'ELEVENAM',\n",
    "    'NOON',\n",
    "    'ONEPM',\n",
    "    'TWOPM',\n",
    "    'THREEPM',\n",
    "    'FOURPM',\n",
    "    'FIVEPM',\n",
    "    'SIXPM',\n",
    "    'SEVENPM',\n",
    "    'EIGHTPM',\n",
    "    'NINEPM',\n",
    "    'TENPM',\n",
    "    'ELEVENPM',\n",
    "]\n",
    "for hour, hour_key in enumerate(hours):\n",
    "    hour_flows = flows[flows.hour == hour_key].copy()\n",
    "    hour_flows = links.merge(hour_flows, on='link')\n",
    "    plot_map(hour, hour_flows, flow_max, os.path.join('vis', '{:02d}.png'.format(hour)))"
   ]
  },
  {
   "cell_type": "code",
   "execution_count": null,
   "metadata": {},
   "outputs": [],
   "source": [
    "gif_path = os.path.join('vis', 'movie.gif')\n",
    "filenames = glob.glob(os.path.join('vis','*.png'))\n",
    "\n",
    "images = []\n",
    "for filename in filenames:\n",
    "    images.append(imageio.imread(filename))\n",
    "imageio.mimsave(os.path.join(gif_path), images)"
   ]
  },
  {
   "cell_type": "code",
   "execution_count": null,
   "metadata": {},
   "outputs": [],
   "source": [
    "pygifsicle.optimize(gif_path)"
   ]
  }
 ],
 "metadata": {
  "kernelspec": {
   "display_name": "Python 3",
   "language": "python",
   "name": "python3"
  },
  "language_info": {
   "codemirror_mode": {
    "name": "ipython",
    "version": 3
   },
   "file_extension": ".py",
   "mimetype": "text/x-python",
   "name": "python",
   "nbconvert_exporter": "python",
   "pygments_lexer": "ipython3",
   "version": "3.7.3"
  }
 },
 "nbformat": 4,
 "nbformat_minor": 2
}
