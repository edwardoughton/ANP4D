{
 "cells": [
  {
   "cell_type": "code",
   "execution_count": null,
   "metadata": {},
   "outputs": [],
   "source": [
    "import glob\n",
    "import os\n",
    "\n",
    "import contextily as ctx\n",
    "import geopandas as gpd\n",
    "import imageio\n",
    "import matplotlib.pyplot as plt\n",
    "import matplotlib.colors\n",
    "import pandas as pd\n",
    "import pygifsicle"
   ]
  },
  {
   "cell_type": "code",
   "execution_count": null,
   "metadata": {},
   "outputs": [],
   "source": [
    "flows = pd.read_csv(os.path.join('data','link_use_central_oxford.csv')) \\\n",
    "    .rename(columns={'edgeID': 'link', 'vehicles': 'flow'})\n",
    "flows.head()"
   ]
  },
  {
   "cell_type": "code",
   "execution_count": null,
   "metadata": {},
   "outputs": [],
   "source": [
    "unique_link_ids = flows.link.unique()\n",
    "unique_link_ids"
   ]
  },
  {
   "cell_type": "code",
   "execution_count": null,
   "metadata": {},
   "outputs": [],
   "source": [
    "len(unique_link_ids)"
   ]
  },
  {
   "cell_type": "code",
   "execution_count": null,
   "metadata": {},
   "outputs": [],
   "source": [
    "links = gpd.read_file(os.path.join('data','fullNetworkWithEdgeIDs.shp')) \\\n",
    "    .drop(columns=['Anode', 'Bnode', 'CP', 'iDir', 'SRefE', 'SRefN', 'Distance', 'FFspeed', 'FFtime', 'IsFerry']) \\\n",
    "    .rename(columns={'EdgeID': 'link'})\n",
    "links.head()"
   ]
  },
  {
   "cell_type": "code",
   "execution_count": null,
   "metadata": {},
   "outputs": [],
   "source": [
    "hourly_maxes = flows.drop(columns=['link']).groupby('hour').max()\n",
    "hourly_maxes.head()"
   ]
  },
  {
   "cell_type": "code",
   "execution_count": null,
   "metadata": {},
   "outputs": [],
   "source": [
    "flow_max = flows.flow.max()\n",
    "flow_max"
   ]
  },
  {
   "cell_type": "code",
   "execution_count": null,
   "metadata": {},
   "outputs": [],
   "source": [
    "def plot_map(interval, links, flow_max, output_filename):\n",
    "    ax = links.plot(\n",
    "        figsize=(10, 12),\n",
    "        column='flow', \n",
    "        cmap='YlOrRd',    \n",
    "        norm=matplotlib.colors.Normalize(vmin=0.0001, vmax=flow_max),\n",
    "        legend=True,\n",
    "        legend_kwds={'label': \"Flow volume\", 'orientation': \"horizontal\"}\n",
    "    )\n",
    "\n",
    "    plt.title('{}:00'.format(interval), fontsize=16)\n",
    "    ctx.add_basemap(ax, crs=links.crs);\n",
    "    \n",
    "    # Save to file\n",
    "    plt.savefig(output_filename)\n",
    "    plt.close()"
   ]
  },
  {
   "cell_type": "code",
   "execution_count": null,
   "metadata": {},
   "outputs": [],
   "source": [
    "for interval_key, interval_name in [\n",
    "    ('MIDNIGHT', '00'),\n",
    "    ('ONEAM', '01'),\n",
    "    ('TWOAM', '02'),\n",
    "    ('THREEAM', '03'),\n",
    "    ('FOURAM', '04'),\n",
    "    ('FIVEAM', '05'),\n",
    "    ('SIXAM', '06'),\n",
    "    ('SEVENAM', '07'),\n",
    "    ('EIGHTAM', '08'),\n",
    "    ('NINEAM', '09'),\n",
    "    ('TENAM', '10'),\n",
    "    ('ELEVENAM', '11'),\n",
    "    ('NOON', '12'),\n",
    "    ('ONEPM', '13'),\n",
    "    ('TWOPM', '14'),\n",
    "    ('THREEPM', '15'),\n",
    "    ('FOURPM', '16'),\n",
    "    ('FIVEPM', '17'),\n",
    "    ('SIXPM', '18'),\n",
    "    ('SEVENPM', '19'),\n",
    "    ('EIGHTPM', '20'),\n",
    "    ('NINEPM', '21'),\n",
    "    ('TENPM', '22'),\n",
    "    ('ELEVENPM', '23')\n",
    "    ]:\n",
    "    hour_flows = flows[flows.hour == interval_key].copy()\n",
    "    hour_flows = links.merge(hour_flows, on='link')\n",
    "\n",
    "    plot_map(interval_name, hour_flows, flow_max, os.path.join('vis', interval_name))\n",
    "    print(\"Done\", interval_name)"
   ]
  },
  {
   "cell_type": "code",
   "execution_count": null,
   "metadata": {},
   "outputs": [],
   "source": [
    "gif_path = 'movie.gif'\n",
    "filenames = glob.glob(os.path.join('vis','*.png'))\n",
    "\n",
    "images = []\n",
    "for filename in filenames:\n",
    "    images.append(imageio.imread(filename))\n",
    "imageio.mimsave(os.path.join(gif_path), images)"
   ]
  },
  {
   "cell_type": "code",
   "execution_count": null,
   "metadata": {},
   "outputs": [],
   "source": [
    "pygifsicle.optimize(gif_path)"
   ]
  }
 ],
 "metadata": {
  "kernelspec": {
   "display_name": "Python 3",
   "language": "python",
   "name": "python3"
  },
  "language_info": {
   "codemirror_mode": {
    "name": "ipython",
    "version": 3
   },
   "file_extension": ".py",
   "mimetype": "text/x-python",
   "name": "python",
   "nbconvert_exporter": "python",
   "pygments_lexer": "ipython3",
   "version": "3.7.3"
  }
 },
 "nbformat": 4,
 "nbformat_minor": 2
}
