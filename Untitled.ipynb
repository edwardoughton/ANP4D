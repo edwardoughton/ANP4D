{
 "cells": [
  {
   "cell_type": "code",
   "execution_count": null,
   "metadata": {},
   "outputs": [],
   "source": [
    "#Import required packages\n",
    "from IPython.display import Image\n",
    "import csv\n",
    "import math\n",
    "import os\n",
    "from itertools import tee\n",
    "import pprint\n",
    "import numpy as np\n",
    "from shapely.geometry import LineString, Point\n",
    "import pandas as pd\n",
    "import geopandas as gpd\n",
    "import matplotlib.pyplot as plt\n",
    "import matplotlib.colors\n",
    "import cartopy.crs as ccrs\n",
    "import cartopy.io.shapereader as shpreader\n",
    "import contextily as ctx"
   ]
  },
  {
   "cell_type": "code",
   "execution_count": null,
   "metadata": {},
   "outputs": [],
   "source": [
    "sites_filename = os.path.join('data','oxford_cells.csv')\n",
    "\n",
    "sites = []\n",
    "\n",
    "with open(sites_filename, 'r') as source:\n",
    "    reader = csv.DictReader(source)\n",
    "    for item in reader:\n",
    "        sites.append({\n",
    "            'site_id': item['Sitengr'],\n",
    "            'x': float(item['X']),\n",
    "            'y': float(item['Y']),\n",
    "        })\n",
    "\n",
    "print(sites[:1])"
   ]
  },
  {
   "cell_type": "code",
   "execution_count": null,
   "metadata": {},
   "outputs": [],
   "source": [
    "links = {}\n",
    "    \n",
    "with fiona.open(os.path.join('data','fullNetworkWithEdgeIDs.shp')) as source:\n",
    "    for item in source:\n",
    "        link = int(item['properties']['EdgeID'])\n",
    "        if link in unique_link_ids:\n",
    "            geom = LineString(item['geometry']['coordinates'])\n",
    "            links[link] = {\n",
    "                'EdgeID': link,\n",
    "                'geom': geom\n",
    "            }\n",
    "\n",
    "print(links)"
   ]
  }
 ],
 "metadata": {
  "kernelspec": {
   "display_name": "Python 3",
   "language": "python",
   "name": "python3"
  },
  "language_info": {
   "codemirror_mode": {
    "name": "ipython",
    "version": 3
   },
   "file_extension": ".py",
   "mimetype": "text/x-python",
   "name": "python",
   "nbconvert_exporter": "python",
   "pygments_lexer": "ipython3",
   "version": "3.7.3"
  }
 },
 "nbformat": 4,
 "nbformat_minor": 2
}
